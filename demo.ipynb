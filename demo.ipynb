{
    "cells": [
        {
            "cell_type": "code",
            "execution_count": 1,
            "source": [
                "from aucpi import Aucpi"
            ],
            "outputs": [],
            "metadata": {}
        },
        {
            "cell_type": "code",
            "execution_count": 3,
            "source": [
                "import numpy as np\n",
                "import pandas as pd"
            ],
            "outputs": [],
            "metadata": {}
        },
        {
            "cell_type": "code",
            "execution_count": 4,
            "source": [
                "dates = pd.to_datetime(pd.Series([\"June 1 2020\", \"June 3 2020\"]))"
            ],
            "outputs": [],
            "metadata": {}
        },
        {
            "cell_type": "code",
            "execution_count": 5,
            "source": [
                "aucpi = Aucpi()\n",
                "aus = aucpi.cpi_australia_series\n",
                "aus"
            ],
            "outputs": [
                {
                    "output_type": "execute_result",
                    "data": {
                        "text/plain": [
                            "Date\n",
                            "1948-09-01      3.7\n",
                            "1948-12-01      3.8\n",
                            "1949-03-01      3.9\n",
                            "1949-06-01        4\n",
                            "1949-09-01      4.1\n",
                            "              ...  \n",
                            "2020-06-01    114.4\n",
                            "2020-09-01    116.2\n",
                            "2020-12-01    117.2\n",
                            "2021-03-01    117.9\n",
                            "2021-06-01    118.8\n",
                            "Name: Index Numbers ;  All groups CPI ;  Australia ;, Length: 292, dtype: object"
                        ]
                    },
                    "metadata": {},
                    "execution_count": 5
                }
            ],
            "metadata": {}
        },
        {
            "cell_type": "code",
            "execution_count": 6,
            "source": [
                "aus.index.lt(dates)"
            ],
            "outputs": [
                {
                    "output_type": "error",
                    "ename": "AttributeError",
                    "evalue": "'DatetimeIndex' object has no attribute 'lt'",
                    "traceback": [
                        "\u001b[0;31m---------------------------------------------------------------------------\u001b[0m",
                        "\u001b[0;31mAttributeError\u001b[0m                            Traceback (most recent call last)",
                        "\u001b[0;32m/var/folders/z3/q5b5c0x13gd8zdgvvg7jd3mr0000gp/T/ipykernel_72159/16458464.py\u001b[0m in \u001b[0;36m<module>\u001b[0;34m\u001b[0m\n\u001b[0;32m----> 1\u001b[0;31m \u001b[0maus\u001b[0m\u001b[0;34m.\u001b[0m\u001b[0mindex\u001b[0m\u001b[0;34m.\u001b[0m\u001b[0mlt\u001b[0m\u001b[0;34m(\u001b[0m\u001b[0mdates\u001b[0m\u001b[0;34m)\u001b[0m\u001b[0;34m\u001b[0m\u001b[0;34m\u001b[0m\u001b[0m\n\u001b[0m",
                        "\u001b[0;31mAttributeError\u001b[0m: 'DatetimeIndex' object has no attribute 'lt'"
                    ]
                }
            ],
            "metadata": {}
        },
        {
            "cell_type": "code",
            "execution_count": 7,
            "source": [
                "np.searchsorted( aus.index,  dates )"
            ],
            "outputs": [
                {
                    "output_type": "execute_result",
                    "data": {
                        "text/plain": [
                            "array([287, 288])"
                        ]
                    },
                    "metadata": {},
                    "execution_count": 7
                }
            ],
            "metadata": {}
        },
        {
            "cell_type": "code",
            "execution_count": 8,
            "source": [
                "aus[ np.searchsorted( aus.index,  dates, side=\"right\" ) ]"
            ],
            "outputs": [
                {
                    "output_type": "execute_result",
                    "data": {
                        "text/plain": [
                            "Date\n",
                            "2020-06-01    114.4\n",
                            "2020-09-01    116.2\n",
                            "Name: Index Numbers ;  All groups CPI ;  Australia ;, dtype: object"
                        ]
                    },
                    "metadata": {},
                    "execution_count": 8
                }
            ],
            "metadata": {}
        },
        {
            "cell_type": "code",
            "execution_count": 2,
            "source": [
                "aucpi = Aucpi()"
            ],
            "outputs": [],
            "metadata": {}
        },
        {
            "cell_type": "code",
            "execution_count": 3,
            "source": [
                "aucpi.cpi_australia_series"
            ],
            "outputs": [
                {
                    "output_type": "execute_result",
                    "data": {
                        "text/plain": [
                            "Date\n",
                            "1948-09-01      3.7\n",
                            "1948-12-01      3.8\n",
                            "1949-03-01      3.9\n",
                            "1949-06-01        4\n",
                            "1949-09-01      4.1\n",
                            "              ...  \n",
                            "2020-06-01    114.4\n",
                            "2020-09-01    116.2\n",
                            "2020-12-01    117.2\n",
                            "2021-03-01    117.9\n",
                            "2021-06-01    118.8\n",
                            "Name: Index Numbers ;  All groups CPI ;  Australia ;, Length: 292, dtype: object"
                        ]
                    },
                    "metadata": {},
                    "execution_count": 3
                }
            ],
            "metadata": {}
        },
        {
            "cell_type": "code",
            "execution_count": 4,
            "source": [
                "from datetime import datetime"
            ],
            "outputs": [],
            "metadata": {}
        },
        {
            "cell_type": "code",
            "execution_count": 5,
            "source": [
                "d = datetime(2020, 5, 17)"
            ],
            "outputs": [],
            "metadata": {}
        },
        {
            "cell_type": "code",
            "execution_count": 6,
            "source": [
                "aucpi.cpi_australia_series[aucpi.cpi_australia_series.index < d].iloc[-1]"
            ],
            "outputs": [
                {
                    "output_type": "execute_result",
                    "data": {
                        "text/plain": [
                            "116.6"
                        ]
                    },
                    "metadata": {},
                    "execution_count": 6
                }
            ],
            "metadata": {}
        },
        {
            "cell_type": "code",
            "execution_count": 7,
            "source": [
                "type(d)"
            ],
            "outputs": [
                {
                    "output_type": "execute_result",
                    "data": {
                        "text/plain": [
                            "datetime.datetime"
                        ]
                    },
                    "metadata": {},
                    "execution_count": 7
                }
            ],
            "metadata": {}
        },
        {
            "cell_type": "code",
            "execution_count": 8,
            "source": [
                "aucpi.cpi_australia_at(\"Jan 10, 2005\")"
            ],
            "outputs": [
                {
                    "output_type": "execute_result",
                    "data": {
                        "text/plain": [
                            "81.5"
                        ]
                    },
                    "metadata": {},
                    "execution_count": 8
                }
            ],
            "metadata": {}
        },
        {
            "cell_type": "code",
            "execution_count": 13,
            "source": [
                "aucpi.adjust( 100, \"Dec, 2005\", \"June 2021\" )"
            ],
            "outputs": [
                {
                    "output_type": "execute_result",
                    "data": {
                        "text/plain": [
                            "141.76610978520287"
                        ]
                    },
                    "metadata": {},
                    "execution_count": 13
                }
            ],
            "metadata": {}
        },
        {
            "cell_type": "code",
            "execution_count": null,
            "source": [],
            "outputs": [],
            "metadata": {}
        }
    ],
    "metadata": {
        "orig_nbformat": 4,
        "language_info": {
            "name": "python",
            "version": "3.9.6",
            "mimetype": "text/x-python",
            "codemirror_mode": {
                "name": "ipython",
                "version": 3
            },
            "pygments_lexer": "ipython3",
            "nbconvert_exporter": "python",
            "file_extension": ".py"
        },
        "kernelspec": {
            "name": "python3",
            "display_name": "Python 3.9.6 64-bit ('aucpi-tAWuuZBv-py3.9': venv)"
        },
        "interpreter": {
            "hash": "61eef1a1079ba865bd4fc100f2a196fc7277b0ccc9f1f8bb85fb7858c2271dcb"
        }
    },
    "nbformat": 4,
    "nbformat_minor": 2
}