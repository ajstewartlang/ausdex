{
 "cells": [
  {
   "cell_type": "markdown",
   "metadata": {},
   "source": [
    "## Socio Economic Advantage Calculations\n",
    "\n",
    "Within this package, the seifa_vic submodule allows for suburb level aggregation of socio economic data derived by Australian Bureau of Statistics from census data every 5 years.\n",
    "\n",
    "## Data access\n",
    "\n",
    "When this module is first run, it will pull down datasets from the Australian Bureau of Statistics, The State of Victoria Data repository, and AURIN. You will need to have an API access key and code in order to download the aurin data. You can get one by filling out the form at this [link](https://aurin.org.au/resources/aurin-apis/sign-up/).\n",
    "\n",
    "once the form is filled out, you will be sent a username and password to be able to pull requests from the api.\n",
    "\n",
    "### Storing the aurin api credentials in a config.ini\n",
    "\n",
    "The username and password can either be entered into a config file in package repository folder in the config.ini file, copying the following example:\n",
    "\n",
    "```toml\n",
    "[aurin]\n",
    "username = {your_aurin_username}\n",
    "password = {your_aurin_password}\n",
    "```\n",
    "\n",
    "### Entering the aurin credentials on execution\n",
    "\n",
    "However, if you do not set up the configuration file, you will be asked to enter your credentials when you run the seifa_vic module for the first time, and these will be saved with your user data.\n",
    "\n",
    "## Using the seifa_vic module:\n",
    "Once the data is loaded and ready to go, you can start making socio economic calculations\n",
    "See below for a high level example of the `interpolate_vic_suburb_seifa` function."
   ]
  },
  {
   "cell_type": "markdown",
   "metadata": {},
   "source": [
    "### Calculating one value"
   ]
  },
  {
   "cell_type": "code",
   "execution_count": 1,
   "metadata": {},
   "outputs": [],
   "source": [
    "from aucpi.seifa_vic.seifa_vic import interpolate_vic_suburb_seifa"
   ]
  },
  {
   "cell_type": "code",
   "execution_count": 2,
   "metadata": {},
   "outputs": [
    {
     "name": "stdout",
     "output_type": "stream",
     "text": [
      "Help on function interpolate_vic_suburb_seifa in module aucpi.seifa_vic.seifa_vic:\n",
      "\n",
      "interpolate_vic_suburb_seifa(year_values, suburb, variable, fill_value='extrapolate', **kwargs) -> <built-in function array>\n",
      "    function to get an interpolated estimate of a SEIFA score for\n",
      "        each victorian suburb from Australian Bureau of statistics data\n",
      "    \n",
      "        You can input \n",
      "        \n",
      "    \n",
      "    Args:\n",
      "        year_values (int, float, np.ndarray like): The year or array of year values you want interpolated\n",
      "        suburb (str): The name of the suburb that you want the data interpolated for\n",
      "                variable (str): the name of the seifa_score variable, options are include \n",
      "                `irsd_score` for index of relative socio economic disadvantage,\n",
      "                `ieo_score` for the index of education and opportunity, \n",
      "                `ier_score` for an index of economic resources, `irsad_score` for index of socio economic advantage and disadvantage,\n",
      "                `uirsa_score` for the urban index of relative socio economic advantage,\n",
      "                `rirsa_score` for the rural index of relative socio economic advantage\n",
      "                fill_value (str): can be \"extrapolate\" to extraplate past the extent of the dataset or \"boundary_value\" to use the closest datapoint, or \n",
      "                an excepted response for scipy.interpolate.interp1D fill_value keyword argument\n",
      "    \n",
      "    Returns:\n",
      "        np.array: The interpolated value of the valueof that seifa variable at that year.\n",
      "\n"
     ]
    }
   ],
   "source": [
    "help(interpolate_vic_suburb_seifa)"
   ]
  },
  {
   "cell_type": "code",
   "execution_count": 3,
   "metadata": {},
   "outputs": [
    {
     "data": {
      "text/plain": "874.1489807920245"
     },
     "execution_count": 3,
     "metadata": {},
     "output_type": "execute_result"
    }
   ],
   "source": [
    "interpolate_vic_suburb_seifa(2007, 'FOOTSCRAY', 'ier_score', fill_value='extrapolate')"
   ]
  },
  {
   "cell_type": "markdown",
   "metadata": {},
   "source": [
    "## Calculation of multiple values\n",
    "\n",
    "You can calculate multiple years by feeding in an np.array like for the year argument"
   ]
  },
  {
   "cell_type": "code",
   "execution_count": 4,
   "metadata": {},
   "outputs": [
    {
     "data": {
      "text/plain": "array([874.14898079, 861.68112674])"
     },
     "execution_count": 4,
     "metadata": {},
     "output_type": "execute_result"
    }
   ],
   "source": [
    "interpolate_vic_suburb_seifa([2007, 2020], 'FOOTSCRAY', 'ier_score', fill_value='extrapolate')"
   ]
  },
  {
   "cell_type": "markdown",
   "metadata": {},
   "source": [
    "## Different methods of extrapolation\n",
    "The default setting is for the interpolator to extrapolate out to values before and after the first and last years in the dataset, this is set with the `fill_value` optional argument.\n",
    "\n",
    "Other options include `\"boundary_value\"` which will set variables outside of the time span of data to the nearest data points. See below for an illustration"
   ]
  },
  {
   "cell_type": "code",
   "execution_count": 5,
   "metadata": {},
   "outputs": [
    {
     "name": "stdout",
     "output_type": "stream",
     "text": [
      "fill_value now ('943.0315332534345', '952')\n"
     ]
    }
   ],
   "source": [
    "import pandas as pd\n",
    "\n",
    "years = list(range(1980, 2020))\n",
    "abbotsford_ier = interpolate_vic_suburb_seifa(years, 'abbotsford', 'ier_score', fill_value='boundary_value')\n",
    "df = pd.DataFrame({'years':years, 'ier_boundary':abbotsford_ier})\n",
    "df['eir_extrapolate'] = interpolate_vic_suburb_seifa(years, 'ABBOTSFORD', 'ier_score', fill_value='extrapolate')"
   ]
  },
  {
   "cell_type": "code",
   "execution_count": 6,
   "metadata": {},
   "outputs": [
    {
     "data": {
      "text/html": "<div>\n<style scoped>\n    .dataframe tbody tr th:only-of-type {\n        vertical-align: middle;\n    }\n\n    .dataframe tbody tr th {\n        vertical-align: top;\n    }\n\n    .dataframe thead th {\n        text-align: right;\n    }\n</style>\n<table border=\"1\" class=\"dataframe\">\n  <thead>\n    <tr style=\"text-align: right;\">\n      <th></th>\n      <th>years</th>\n      <th>ier_boundary</th>\n      <th>eir_extrapolate</th>\n    </tr>\n  </thead>\n  <tbody>\n    <tr>\n      <th>0</th>\n      <td>1980</td>\n      <td>943.031533</td>\n      <td>868.191431</td>\n    </tr>\n    <tr>\n      <th>1</th>\n      <td>1981</td>\n      <td>943.031533</td>\n      <td>880.664782</td>\n    </tr>\n    <tr>\n      <th>2</th>\n      <td>1982</td>\n      <td>943.031533</td>\n      <td>893.138132</td>\n    </tr>\n    <tr>\n      <th>3</th>\n      <td>1983</td>\n      <td>943.031533</td>\n      <td>905.611482</td>\n    </tr>\n    <tr>\n      <th>4</th>\n      <td>1984</td>\n      <td>943.031533</td>\n      <td>918.084833</td>\n    </tr>\n  </tbody>\n</table>\n</div>",
      "text/plain": "   years  ier_boundary  eir_extrapolate\n0   1980    943.031533       868.191431\n1   1981    943.031533       880.664782\n2   1982    943.031533       893.138132\n3   1983    943.031533       905.611482\n4   1984    943.031533       918.084833"
     },
     "execution_count": 6,
     "metadata": {},
     "output_type": "execute_result"
    }
   ],
   "source": [
    "df.head()\n"
   ]
  },
  {
   "cell_type": "code",
   "execution_count": 7,
   "metadata": {},
   "outputs": [
    {
     "data": {
      "text/plain": "<AxesSubplot:xlabel='years'>"
     },
     "execution_count": 7,
     "metadata": {},
     "output_type": "execute_result"
    },
    {
     "data": {
      "image/png": "[encoded data removed]",
      "text/plain": "<Figure size 432x288 with 1 Axes>"
     },
     "metadata": {
      "needs_background": "light",
      "transient": {}
     },
     "output_type": "display_data"
    }
   ],
   "source": [
    "\n",
    "df.plot(x='years', y=['ier_boundary', 'eir_extrapolate'], alpha=0.5)"
   ]
  },
  {
   "cell_type": "markdown",
   "metadata": {},
   "source": [
    "Note that the above graph shows the boundary_value vs the extrapolate fill_value patterns"
   ]
  },
  {
   "cell_type": "code",
   "execution_count": null,
   "metadata": {},
   "outputs": [],
   "source": []
  }
 ],
 "metadata": {
  "kernelspec": {
   "display_name": "Python 3 (ipykernel)",
   "language": "python",
   "name": "python3"
  },
  "language_info": {
   "codemirror_mode": {
    "name": "ipython",
    "version": 3
   },
   "file_extension": ".py",
   "mimetype": "text/x-python",
   "name": "python",
   "nbconvert_exporter": "python",
   "pygments_lexer": "ipython3",
   "version": "3.7.1"
  }
 },
 "nbformat": 4,
 "nbformat_minor": 5
}