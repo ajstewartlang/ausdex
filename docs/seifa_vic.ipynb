{
 "cells": [
  {
   "cell_type": "markdown",
   "id": "fcbb1c8a",
   "metadata": {},
   "source": [
    "# Socio-Economic Advantage\n",
    "\n",
    "Within this package, the seifa_vic submodule allows for suburb level aggregation of socio economic data derived by Australian Bureau of Statistics from census data every 5 years.\n",
    "\n",
    "## Data access\n",
    "\n",
    "When this module is first run, it will pull down datasets from the Australian Bureau of Statistics, The State of Victoria Data repository, and AURIN. You will need to have an API access key and code in order to download the aurin data. You can get one by filling out the form at this [link](https://aurin.org.au/resources/aurin-apis/sign-up/).\n",
    "\n",
    "Once the form is filled out, you will be sent a username and password to be able to pull requests from the API.\n",
    "\n",
    "### Storing the aurin api credentials in a config.ini\n",
    "\n",
    "The username and password can either be entered into a config file in package repository folder in the config.ini file, copying the following example:\n",
    "\n",
    "```toml\n",
    "[aurin]\n",
    "username = {your_aurin_username}\n",
    "password = {your_aurin_password}\n",
    "```\n",
    "\n",
    "### Entering the aurin credentials on execution\n",
    "\n",
    "However, if you do not set up the configuration file, you will be asked to enter your credentials when you run the seifa_vic module for the first time, and these will be saved with your user data.\n",
    "\n",
    "## Using the seifa_vic command line utility:\n",
    "\n",
    "The Socioeconomic data can be interpolated from the command line with the following command:\n",
    "\n",
    "```bash\n",
    "ausdex seifa-vic [OPTIONS] YEAR_VALUE SUBURB METRIC\n",
    "```\n",
    "\n",
    "where:\n",
    "\n",
    "- `YEAR_VALUE`: Is the year or datetime value to interpolate\n",
    "- `SUBURB`: is the name of the suburb to interpolate to (capitalisation doesnt matter)\n",
    "- `METRIC`: is the name of the metric to interpolate:\n",
    "  - `irsd_score` for index of relative socio economic disadvantage,\n",
    "  - `ieo_score` for the index of education and opportunity, \n",
    "  - `ier_score` for an index of economic resources\n",
    "  - `irsad_score` for index of socio economic advantage and disadvantage,\n",
    "  - `uirsa_score` for the urban index of relative socio economic advantage,\n",
    "  - `rirsa_score` for the rural index of relative socio economic advantage\n",
    "- `--lga`: name of the local goverment area, used if the suburb name is repeated multiple times in the state (ie Ascot in ballarat, and Ascot in Greater Bendigo\n",
    "- `--fill-value`: optional input that dictates how the data are extrapolated outside the year range of the dataset. default is `null` which returns `np.nan` values. Other options include `extrapolate`, which extrapolates the data, `boundary_value` which takes the nearest data point, and options defined in the [scipy.interpolate.interp1d](https://docs.scipy.org/doc/scipy/reference/generated/scipy.interpolate.interp1d.html) `fill_value` optional argument.\n",
    "\n",
    "## Using the seifa_vic module:\n",
    "Once the data is loaded and ready to go, you can start making socio economic calculations\n",
    "See below for a high level example of the `interpolate_vic_suburb_seifa` function."
   ]
  },
  {
   "cell_type": "code",
   "execution_count": 1,
   "id": "d5393daa",
   "metadata": {
    "nbsphinx": "hidden"
   },
   "outputs": [],
   "source": [
    "import warnings\n",
    "warnings.filterwarnings('ignore')"
   ]
  },
  {
   "cell_type": "markdown",
   "id": "83d4ae49",
   "metadata": {},
   "source": [
    "### Calculating one value"
   ]
  },
  {
   "cell_type": "code",
   "execution_count": 2,
   "id": "aae3851d",
   "metadata": {},
   "outputs": [],
   "source": [
    "from ausdex.seifa_vic import interpolate_vic_suburb_seifa, get_repeated_names"
   ]
  },
  {
   "cell_type": "markdown",
   "id": "51dbd520",
   "metadata": {},
   "source": [
    "The interpolate_vic_suburb_seifa function takes the same arguments as the command line:\n",
    "\n",
    "```python\n",
    "interpolate_vic_suburb_seifa(\n",
    "    year_values: Union[int, float,str,  np.datetime64, datetime.datetime, np.array,pd.Series, mpd.Series, list], \n",
    "    suburb:  Union[str, np.array,  list, pd.Series, mpd.Series],\n",
    "    metric: str,\n",
    "    lga: Union[None, str, np.array,pd.Series, mpd.Series, list ]=None, \n",
    "    fill_value: str =\"null\",\n",
    "     **kwargs\n",
    ") -> np.array or float\n",
    "```"
   ]
  },
  {
   "cell_type": "code",
   "execution_count": 3,
   "id": "1b9eee99",
   "metadata": {},
   "outputs": [
    {
     "data": {
      "text/plain": [
       "872.5409546327359"
      ]
     },
     "execution_count": 3,
     "metadata": {},
     "output_type": "execute_result"
    }
   ],
   "source": [
    "interpolate_vic_suburb_seifa(2007, 'FOOTSCRAY', 'ier_score', fill_value='null')"
   ]
  },
  {
   "cell_type": "markdown",
   "id": "e982f6b3",
   "metadata": {},
   "source": [
    "### Calculation of multiple values\n",
    "\n",
    "You can calculate multiple years by feeding in an np.array like for the year argument"
   ]
  },
  {
   "cell_type": "code",
   "execution_count": 4,
   "id": "a64c37d9",
   "metadata": {},
   "outputs": [
    {
     "data": {
      "text/plain": [
       "array([872.54095463, 824.12602533])"
      ]
     },
     "execution_count": 4,
     "metadata": {},
     "output_type": "execute_result"
    }
   ],
   "source": [
    "interpolate_vic_suburb_seifa([2007, 2020], 'FOOTSCRAY', 'ier_score', fill_value='extrapolate')"
   ]
  },
  {
   "cell_type": "markdown",
   "id": "fa6c31b5",
   "metadata": {},
   "source": [
    "You can also add in multiple suburbs (in a `list`, `np.array`, or `pd.Series`, which will return a value for each year (or datetime) and suburb pair:"
   ]
  },
  {
   "cell_type": "code",
   "execution_count": 5,
   "id": "58946874",
   "metadata": {},
   "outputs": [
    {
     "data": {
      "text/plain": [
       "array([862.77569946, 978.37269243,          nan])"
      ]
     },
     "execution_count": 5,
     "metadata": {},
     "output_type": "execute_result"
    }
   ],
   "source": [
    "import numpy as np\n",
    "import pandas as pd\n",
    "interpolate_vic_suburb_seifa(np.array(['31-05-2010', '10-03-1988', '10-03-2025']), \n",
    "                             pd.Series(['FOOTSCRAY', 'abbotsford', 'Parkville']), 'ier_score')"
   ]
  },
  {
   "cell_type": "markdown",
   "id": "9ec6642b",
   "metadata": {},
   "source": [
    "**Note:** year values can take in an integer or float year, or any sort of datetime format acceptable to `pd.Timestamp`. and suburbs can be in any kind of case. date time values are interpolated at monthly resolution."
   ]
  },
  {
   "cell_type": "markdown",
   "id": "69e412be",
   "metadata": {},
   "source": [
    "#### Suburbs with repeated names\n",
    "\n",
    "Several suburb names in victoria are repeated in different local government areas. These are listed with the following formate `\"{suburb_name} - {council_name}\"` The list of these names can be found using the `get_repeated_names` function\n"
   ]
  },
  {
   "cell_type": "code",
   "execution_count": 6,
   "id": "450930f0",
   "metadata": {},
   "outputs": [
    {
     "data": {
      "text/plain": [
       "['ASCOT - BALLARAT',\n",
       " 'ASCOT - GREATER BENDIGO',\n",
       " 'BELLFIELD - BANYULE',\n",
       " 'BELLFIELD - GRAMPIANS',\n",
       " 'BIG HILL - GREATER BENDIGO',\n",
       " 'BIG HILL - SURF COAST',\n",
       " 'FAIRY DELL - CAMPASPE',\n",
       " 'FAIRY DELL - EAST GIPPSLAND',\n",
       " 'FRAMLINGHAM - MOYNE',\n",
       " 'GOLDEN POINT - BALLARAT',\n",
       " 'GOLDEN POINT - CENTRAL GOLDFIELDS',\n",
       " 'GOLDEN POINT - MOUNT ALEXANDER',\n",
       " 'HAPPY VALLEY - GOLDEN PLAINS',\n",
       " 'HAPPY VALLEY - SWAN HILL',\n",
       " 'HILLSIDE - EAST GIPPSLAND',\n",
       " 'HILLSIDE - MELTON',\n",
       " 'KILLARA - GLENELG',\n",
       " 'KILLARA - WODONGA',\n",
       " 'MERRIJIG - EAST GIPPSLAND',\n",
       " 'MERRIJIG - MANSFIELD',\n",
       " 'MERRIJIG - WANGARATTA',\n",
       " 'MOONLIGHT FLAT - CENTRAL GOLDFIELDS',\n",
       " 'MOONLIGHT FLAT - MOUNT ALEXANDER',\n",
       " 'MYALL - BULOKE',\n",
       " 'MYALL - GANNAWARRA',\n",
       " 'NEWTOWN - GOLDEN PLAINS',\n",
       " 'NEWTOWN - GREATER GEELONG',\n",
       " 'REEDY CREEK - MITCHELL',\n",
       " 'SPRINGFIELD - MACEDON RANGES',\n",
       " 'SPRINGFIELD - SWAN HILL',\n",
       " 'STONY CREEK - HEPBURN',\n",
       " 'STONY CREEK - SOUTH GIPPSLAND',\n",
       " 'THOMSON - BAW BAW',\n",
       " 'THOMSON - GREATER GEELONG']"
      ]
     },
     "execution_count": 6,
     "metadata": {},
     "output_type": "execute_result"
    }
   ],
   "source": [
    "get_repeated_names()"
   ]
  },
  {
   "cell_type": "markdown",
   "id": "0f33b56e",
   "metadata": {},
   "source": [
    "### Addressing repeated names\n",
    "\n",
    "In order to address the repeated names issue, you can do one of two things\n",
    "- use the `\"{suburb} - {local_government_area}\"` format in the suburb command\n",
    "- or use the `lga` optional argument to include the lga for the suburb"
   ]
  },
  {
   "cell_type": "code",
   "execution_count": 7,
   "id": "045b85a9",
   "metadata": {},
   "outputs": [
    {
     "data": {
      "text/plain": [
       "array([1099.06088154, 1026.49932655])"
      ]
     },
     "execution_count": 7,
     "metadata": {},
     "output_type": "execute_result"
    }
   ],
   "source": [
    "interpolate_vic_suburb_seifa([2007, 2020], 'ASCOT - BALLARAT', 'ier_score', fill_value='extrapolate')"
   ]
  },
  {
   "cell_type": "code",
   "execution_count": 8,
   "id": "06ae342c",
   "metadata": {},
   "outputs": [
    {
     "data": {
      "text/plain": [
       "array([1099.06088154, 1026.49932655])"
      ]
     },
     "execution_count": 8,
     "metadata": {},
     "output_type": "execute_result"
    }
   ],
   "source": [
    "interpolate_vic_suburb_seifa([2007, 2020], 'ASCOT', 'ier_score',lga=\"ballarat\", fill_value='extrapolate')"
   ]
  },
  {
   "cell_type": "code",
   "execution_count": 12,
   "id": "7993859f",
   "metadata": {},
   "outputs": [
    {
     "data": {
      "text/plain": [
       "array([1084.16837443, 1052.41809538,           nan])"
      ]
     },
     "execution_count": 12,
     "metadata": {},
     "output_type": "execute_result"
    }
   ],
   "source": [
    "# it even works with an array-like of lga values\n",
    "interpolate_vic_suburb_seifa(np.array(['31-05-2010', '10-03-1988', '10-03-2025']), \n",
    "                             pd.Series(['Ascot', 'Ascot', 'Abbotsford']), 'ier_score',\n",
    "                             lga = ['ballarat', 'greater bendigo', 'Yarra']\n",
    "                            )"
   ]
  },
  {
   "cell_type": "markdown",
   "id": "329e4d8f",
   "metadata": {},
   "source": [
    "### Different methods of extrapolation\n",
    "The default setting is for the interpolator to extrapolate out to values before and after the first and last years in the dataset, this is set with the `fill_value` optional argument.\n",
    "\n",
    "Other options include `\"boundary_value\"` which will set variables outside of the time span of data to the nearest data points. See below for an illustration"
   ]
  },
  {
   "cell_type": "code",
   "execution_count": 13,
   "id": "2df6e556",
   "metadata": {},
   "outputs": [],
   "source": [
    "import pandas as pd\n",
    "\n",
    "years = list(range(1980, 2020))\n",
    "abbotsford_ier = interpolate_vic_suburb_seifa(years, 'abbotsford', 'ier_score', fill_value='boundary_value')\n",
    "df = pd.DataFrame({'years':years, 'ier_boundary':abbotsford_ier})\n",
    "df['ier_extrapolate'] = interpolate_vic_suburb_seifa(years, 'ABBOTSFORD', 'ier_score', fill_value='extrapolate')"
   ]
  },
  {
   "cell_type": "code",
   "execution_count": 14,
   "id": "d7124f27",
   "metadata": {},
   "outputs": [
    {
     "data": {
      "text/html": [
       "<div>\n",
       "<style scoped>\n",
       "    .dataframe tbody tr th:only-of-type {\n",
       "        vertical-align: middle;\n",
       "    }\n",
       "\n",
       "    .dataframe tbody tr th {\n",
       "        vertical-align: top;\n",
       "    }\n",
       "\n",
       "    .dataframe thead th {\n",
       "        text-align: right;\n",
       "    }\n",
       "</style>\n",
       "<table border=\"1\" class=\"dataframe\">\n",
       "  <thead>\n",
       "    <tr style=\"text-align: right;\">\n",
       "      <th></th>\n",
       "      <th>years</th>\n",
       "      <th>ier_boundary</th>\n",
       "      <th>ier_extrapolate</th>\n",
       "    </tr>\n",
       "  </thead>\n",
       "  <tbody>\n",
       "    <tr>\n",
       "      <th>0</th>\n",
       "      <td>1980</td>\n",
       "      <td>943.031533</td>\n",
       "      <td>868.191431</td>\n",
       "    </tr>\n",
       "    <tr>\n",
       "      <th>1</th>\n",
       "      <td>1981</td>\n",
       "      <td>943.031533</td>\n",
       "      <td>880.664782</td>\n",
       "    </tr>\n",
       "    <tr>\n",
       "      <th>2</th>\n",
       "      <td>1982</td>\n",
       "      <td>943.031533</td>\n",
       "      <td>893.138132</td>\n",
       "    </tr>\n",
       "    <tr>\n",
       "      <th>3</th>\n",
       "      <td>1983</td>\n",
       "      <td>943.031533</td>\n",
       "      <td>905.611482</td>\n",
       "    </tr>\n",
       "    <tr>\n",
       "      <th>4</th>\n",
       "      <td>1984</td>\n",
       "      <td>943.031533</td>\n",
       "      <td>918.084833</td>\n",
       "    </tr>\n",
       "  </tbody>\n",
       "</table>\n",
       "</div>"
      ],
      "text/plain": [
       "   years  ier_boundary  ier_extrapolate\n",
       "0   1980    943.031533       868.191431\n",
       "1   1981    943.031533       880.664782\n",
       "2   1982    943.031533       893.138132\n",
       "3   1983    943.031533       905.611482\n",
       "4   1984    943.031533       918.084833"
      ]
     },
     "execution_count": 14,
     "metadata": {},
     "output_type": "execute_result"
    }
   ],
   "source": [
    "df.head()\n"
   ]
  },
  {
   "cell_type": "code",
   "execution_count": 15,
   "id": "696b1491",
   "metadata": {},
   "outputs": [
    {
     "data": {
      "image/png": "[encoded data removed]",
      "text/plain": [
       "<Figure size 432x288 with 1 Axes>"
      ]
     },
     "metadata": {
      "needs_background": "light"
     },
     "output_type": "display_data"
    }
   ],
   "source": [
    "\n",
    "ax = df.plot(x='years', y=['ier_boundary', 'ier_extrapolate'], alpha=0.5)\n",
    "ax.set_ylabel('ier_score');\n"
   ]
  },
  {
   "cell_type": "markdown",
   "id": "45930e40",
   "metadata": {},
   "source": [
    "Note that the above graph shows the boundary_value vs the extrapolate fill_value patterns"
   ]
  }
 ],
 "metadata": {
  "celltoolbar": "Edit Metadata",
  "kernelspec": {
   "display_name": "Python 3 (ipykernel)",
   "language": "python",
   "name": "python3"
  },
  "language_info": {
   "codemirror_mode": {
    "name": "ipython",
    "version": 3
   },
   "file_extension": ".py",
   "mimetype": "text/x-python",
   "name": "python",
   "nbconvert_exporter": "python",
   "pygments_lexer": "ipython3",
   "version": "3.7.1"
  }
 },
 "nbformat": 4,
 "nbformat_minor": 5
}
