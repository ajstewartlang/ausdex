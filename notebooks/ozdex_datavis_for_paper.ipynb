{
 "cells": [
  {
   "cell_type": "code",
   "execution_count": 1,
   "metadata": {},
   "outputs": [
    {
     "name": "stderr",
     "output_type": "stream",
     "text": [
      "UserWarning: The Shapely GEOS version (3.8.0-CAPI-1.13.1 ) is incompatible with the GEOS version PyGEOS was compiled with (3.9.1-CAPI-1.14.2). Conversions between both will be slow.\n"
     ]
    }
   ],
   "source": [
    "from ausdex.seifa_vic.data_wrangling import wrangle_victorian_gis_data, get_aurin_datasets_vic"
   ]
  },
  {
   "cell_type": "code",
   "execution_count": 2,
   "metadata": {},
   "outputs": [],
   "source": [
    "gdf_1986, gdf_1991, gdf_1996, gdf_2001 = get_aurin_datasets_vic()"
   ]
  },
  {
   "cell_type": "code",
   "execution_count": 4,
   "metadata": {},
   "outputs": [
    {
     "data": {
      "text/html": [
       "<div>\n",
       "<style scoped>\n",
       "    .dataframe tbody tr th:only-of-type {\n",
       "        vertical-align: middle;\n",
       "    }\n",
       "\n",
       "    .dataframe tbody tr th {\n",
       "        vertical-align: top;\n",
       "    }\n",
       "\n",
       "    .dataframe thead th {\n",
       "        text-align: right;\n",
       "    }\n",
       "</style>\n",
       "<table border=\"1\" class=\"dataframe\">\n",
       "  <thead>\n",
       "    <tr style=\"text-align: right;\">\n",
       "      <th></th>\n",
       "      <th>id</th>\n",
       "      <th>cd_code</th>\n",
       "      <th>state_</th>\n",
       "      <th>_seifa86_population_</th>\n",
       "      <th>index_of_relative_socio_economic_disadvantage_</th>\n",
       "      <th>_index_of_economic_resources_</th>\n",
       "      <th>index_of_education_and_occupation_</th>\n",
       "      <th>sla_</th>\n",
       "      <th>sla_name_</th>\n",
       "      <th>postal_areas_</th>\n",
       "      <th>state_name</th>\n",
       "      <th>geometry</th>\n",
       "    </tr>\n",
       "  </thead>\n",
       "  <tbody>\n",
       "    <tr>\n",
       "      <th>0</th>\n",
       "      <td>datasource-AU_Govt_ABS-UoM_AURIN_DB_3_seifa_cd...</td>\n",
       "      <td>1010103</td>\n",
       "      <td>1</td>\n",
       "      <td>36</td>\n",
       "      <td>1069.00290</td>\n",
       "      <td>1006.07980</td>\n",
       "      <td>898.74340</td>\n",
       "      <td>300</td>\n",
       "      <td>Balranald (S)</td>\n",
       "      <td>2711</td>\n",
       "      <td>New South Wales</td>\n",
       "      <td>MULTIPOLYGON (((144.15360 -33.97960, 144.15450...</td>\n",
       "    </tr>\n",
       "    <tr>\n",
       "      <th>1</th>\n",
       "      <td>datasource-AU_Govt_ABS-UoM_AURIN_DB_3_seifa_cd...</td>\n",
       "      <td>6010406</td>\n",
       "      <td>6</td>\n",
       "      <td>746</td>\n",
       "      <td>950.94415</td>\n",
       "      <td>968.09534</td>\n",
       "      <td>895.35345</td>\n",
       "      <td>4801</td>\n",
       "      <td>Wynyard (M) - Pt A</td>\n",
       "      <td>7325</td>\n",
       "      <td>Tasmania</td>\n",
       "      <td>MULTIPOLYGON (((145.71700 -40.98920, 145.71090...</td>\n",
       "    </tr>\n",
       "    <tr>\n",
       "      <th>2</th>\n",
       "      <td>datasource-AU_Govt_ABS-UoM_AURIN_DB_3_seifa_cd...</td>\n",
       "      <td>6010407</td>\n",
       "      <td>6</td>\n",
       "      <td>542</td>\n",
       "      <td>969.49850</td>\n",
       "      <td>910.61993</td>\n",
       "      <td>953.03815</td>\n",
       "      <td>4801</td>\n",
       "      <td>Wynyard (M) - Pt A</td>\n",
       "      <td>7325</td>\n",
       "      <td>Tasmania</td>\n",
       "      <td>MULTIPOLYGON (((145.72330 -40.99050, 145.71930...</td>\n",
       "    </tr>\n",
       "    <tr>\n",
       "      <th>3</th>\n",
       "      <td>datasource-AU_Govt_ABS-UoM_AURIN_DB_3_seifa_cd...</td>\n",
       "      <td>3011310</td>\n",
       "      <td>3</td>\n",
       "      <td>1423</td>\n",
       "      <td>1002.39300</td>\n",
       "      <td>1014.01310</td>\n",
       "      <td>985.62335</td>\n",
       "      <td>5401</td>\n",
       "      <td>Mulgrave (S) - Pt A</td>\n",
       "      <td>4870</td>\n",
       "      <td>Queensland</td>\n",
       "      <td>MULTIPOLYGON (((145.74150 -16.96720, 145.74750...</td>\n",
       "    </tr>\n",
       "    <tr>\n",
       "      <th>4</th>\n",
       "      <td>datasource-AU_Govt_ABS-UoM_AURIN_DB_3_seifa_cd...</td>\n",
       "      <td>3050708</td>\n",
       "      <td>3</td>\n",
       "      <td>377</td>\n",
       "      <td>960.89856</td>\n",
       "      <td>949.48320</td>\n",
       "      <td>856.07050</td>\n",
       "      <td>6100</td>\n",
       "      <td>Proserpine (S)</td>\n",
       "      <td>4800</td>\n",
       "      <td>Queensland</td>\n",
       "      <td>MULTIPOLYGON (((148.67320 -20.44520, 148.67340...</td>\n",
       "    </tr>\n",
       "  </tbody>\n",
       "</table>\n",
       "</div>"
      ],
      "text/plain": [
       "                                                  id  cd_code state_  \\\n",
       "0  datasource-AU_Govt_ABS-UoM_AURIN_DB_3_seifa_cd...  1010103      1   \n",
       "1  datasource-AU_Govt_ABS-UoM_AURIN_DB_3_seifa_cd...  6010406      6   \n",
       "2  datasource-AU_Govt_ABS-UoM_AURIN_DB_3_seifa_cd...  6010407      6   \n",
       "3  datasource-AU_Govt_ABS-UoM_AURIN_DB_3_seifa_cd...  3011310      3   \n",
       "4  datasource-AU_Govt_ABS-UoM_AURIN_DB_3_seifa_cd...  3050708      3   \n",
       "\n",
       "   _seifa86_population_  index_of_relative_socio_economic_disadvantage_  \\\n",
       "0                    36                                      1069.00290   \n",
       "1                   746                                       950.94415   \n",
       "2                   542                                       969.49850   \n",
       "3                  1423                                      1002.39300   \n",
       "4                   377                                       960.89856   \n",
       "\n",
       "   _index_of_economic_resources_  index_of_education_and_occupation_  sla_  \\\n",
       "0                     1006.07980                           898.74340  300    \n",
       "1                      968.09534                           895.35345  4801   \n",
       "2                      910.61993                           953.03815  4801   \n",
       "3                     1014.01310                           985.62335  5401   \n",
       "4                      949.48320                           856.07050  6100   \n",
       "\n",
       "             sla_name_ postal_areas_       state_name  \\\n",
       "0        Balranald (S)          2711  New South Wales   \n",
       "1   Wynyard (M) - Pt A          7325         Tasmania   \n",
       "2   Wynyard (M) - Pt A          7325         Tasmania   \n",
       "3  Mulgrave (S) - Pt A          4870       Queensland   \n",
       "4       Proserpine (S)          4800       Queensland   \n",
       "\n",
       "                                            geometry  \n",
       "0  MULTIPOLYGON (((144.15360 -33.97960, 144.15450...  \n",
       "1  MULTIPOLYGON (((145.71700 -40.98920, 145.71090...  \n",
       "2  MULTIPOLYGON (((145.72330 -40.99050, 145.71930...  \n",
       "3  MULTIPOLYGON (((145.74150 -16.96720, 145.74750...  \n",
       "4  MULTIPOLYGON (((148.67320 -20.44520, 148.67340...  "
      ]
     },
     "execution_count": 4,
     "metadata": {},
     "output_type": "execute_result"
    }
   ],
   "source": [
    "gdf_1986.head()"
   ]
  },
  {
   "cell_type": "code",
   "execution_count": 3,
   "metadata": {},
   "outputs": [],
   "source": [
    "suburbs, councils = wrangle_victorian_gis_data()"
   ]
  },
  {
   "cell_type": "code",
   "execution_count": 6,
   "metadata": {},
   "outputs": [],
   "source": [
    "import geopandas as gpd\n",
    "\n",
    "gdf_combined = gpd.overlay(suburbs.to_crs('EPSG:4326'), gdf_1986.to_crs('EPSG:4326'))"
   ]
  },
  {
   "cell_type": "code",
   "execution_count": 7,
   "metadata": {},
   "outputs": [
    {
     "data": {
      "text/plain": [
       "Index(['id_1', 'lc_ply_pid', 'dt_create', 'dt_retire', 'loc_pid', 'vic_locali',\n",
       "       'vic_loca_1', 'vic_loca_2', 'vic_loca_3', 'vic_loca_4', 'vic_loca_5',\n",
       "       'vic_loca_6', 'vic_loca_7', 'Site_suburb', 'id_2', 'cd_code', 'state_',\n",
       "       '_seifa86_population_',\n",
       "       'index_of_relative_socio_economic_disadvantage_',\n",
       "       '_index_of_economic_resources_', 'index_of_education_and_occupation_',\n",
       "       'sla_', 'sla_name_', 'postal_areas_', 'state_name', 'geometry'],\n",
       "      dtype='object')"
      ]
     },
     "execution_count": 7,
     "metadata": {},
     "output_type": "execute_result"
    }
   ],
   "source": [
    "gdf_combined.columns"
   ]
  },
  {
   "cell_type": "code",
   "execution_count": 31,
   "metadata": {},
   "outputs": [
    {
     "data": {
      "text/plain": [
       "Text(0.5, 15.0, 'decimal degrees longitude')"
      ]
     },
     "execution_count": 31,
     "metadata": {},
     "output_type": "execute_result"
    },
    {
     "data": {
      "image/png": "[encoded data removed]",
      "text/plain": [
       "<Figure size 432x288 with 1 Axes>"
      ]
     },
     "metadata": {
      "needs_background": "light"
     },
     "output_type": "display_data"
    }
   ],
   "source": [
    "import matplotlib.pyplot as plt\n",
    "\n",
    "fig, ax = plt.subplots()\n",
    "\n",
    "gdf_combined[(gdf_combined['Site_suburb']=='BURNLEY') |(gdf_combined['Site_suburb']=='RICHMOND')|(gdf_combined['Site_suburb']=='HAWTHORN')].plot('cd_code', ax=ax)\n",
    "suburbs[(suburbs['Site_suburb']=='BURNLEY') |(suburbs['Site_suburb']=='RICHMOND')|(suburbs['Site_suburb']=='HAWTHORN')].boundary.plot(color='black', ax=ax)\n",
    "ax.ticklabel_format(useOffset=False, style='plain')\n",
    "ax.set_ylabel('decimal degrees latitude')\n",
    "ax.set_xlabel('decimal degrees longitude')"
   ]
  },
  {
   "cell_type": "code",
   "execution_count": null,
   "metadata": {},
   "outputs": [],
   "source": []
  }
 ],
 "metadata": {
  "kernelspec": {
   "display_name": "Python 3 (ipykernel)",
   "language": "python",
   "name": "python3"
  },
  "language_info": {
   "codemirror_mode": {
    "name": "ipython",
    "version": 3
   },
   "file_extension": ".py",
   "mimetype": "text/x-python",
   "name": "python",
   "nbconvert_exporter": "python",
   "pygments_lexer": "ipython3",
   "version": "3.7.1"
  }
 },
 "nbformat": 4,
 "nbformat_minor": 2
}
