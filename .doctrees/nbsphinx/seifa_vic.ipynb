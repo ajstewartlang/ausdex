{
 "cells": [
  {
   "cell_type": "markdown",
   "id": "ba86f9a3",
   "metadata": {},
   "source": [
    "# Socio Economic Advantage Calculations\n",
    "\n",
    "Within this package, the seifa_vic submodule allows for suburb level aggregation of socio economic data derived by Australian Bureau of Statistics from census data every 5 years.\n",
    "\n",
    "## Data access\n",
    "\n",
    "When this module is first run, it will pull down datasets from the Australian Bureau of Statistics, The State of Victoria Data repository, and AURIN. You will need to have an API access key and code in order to download the aurin data. You can get one by filling out the form at this [link](https://aurin.org.au/resources/aurin-apis/sign-up/).\n",
    "\n",
    "Once the form is filled out, you will be sent a username and password to be able to pull requests from the API.\n",
    "\n",
    "### Storing the aurin api credentials in a config.ini\n",
    "\n",
    "The username and password can either be entered into a config file in package repository folder in the config.ini file, copying the following example:\n",
    "\n",
    "```toml\n",
    "[aurin]\n",
    "username = {your_aurin_username}\n",
    "password = {your_aurin_password}\n",
    "```\n",
    "\n",
    "### Entering the aurin credentials on execution\n",
    "\n",
    "However, if you do not set up the configuration file, you will be asked to enter your credentials when you run the seifa_vic module for the first time, and these will be saved with your user data.\n",
    "\n",
    "## Using the seifa_vic command line utility:\n",
    "\n",
    "The Socioeconomic data can be interpolated from the command line with the following command:\n",
    "\n",
    "```bash\n",
    "aucpi seifa-vic [OPTIONS] YEAR_VALUE SUBURB METRIC\n",
    "```\n",
    "\n",
    "where:\n",
    "\n",
    "- `YEAR_VALUE`: Is the year to interpolate\n",
    "- `SUBURB`: is the name of the suburb to interpolate to (capitalisation doesnt matter)\n",
    "- `METRIC`: is the name of the metric to interpolate:\n",
    "  - `irsd_score` for index of relative socio economic disadvantage,\n",
    "  - `ieo_score` for the index of education and opportunity, \n",
    "  - `ier_score` for an index of economic resources\n",
    "  - `irsad_score` for index of socio economic advantage and disadvantage,\n",
    "  - `uirsa_score` for the urban index of relative socio economic advantage,\n",
    "  - `rirsa_score` for the rural index of relative socio economic advantage\n",
    "- `--fill-value`: optional input that dictates how the data are extrapolated outside the year range of the dataset. default is `extrapolate` which extrapolates the data. `boundary_value` which takes the nearest data point, and options defined in the [scipy.interpolate.interp1d](https://docs.scipy.org/doc/scipy/reference/generated/scipy.interpolate.interp1d.html) `fill_value` optional argument.\n",
    "\n",
    "## Using the seifa_vic module:\n",
    "Once the data is loaded and ready to go, you can start making socio economic calculations\n",
    "See below for a high level example of the `interpolate_vic_suburb_seifa` function."
   ]
  },
  {
   "cell_type": "markdown",
   "id": "3686fc0e",
   "metadata": {},
   "source": [
    "### Calculating one value"
   ]
  },
  {
   "cell_type": "code",
   "execution_count": 8,
   "id": "2507545d",
   "metadata": {},
   "outputs": [],
   "source": [
    "from aucpi.seifa_vic import interpolate_vic_suburb_seifa"
   ]
  },
  {
   "cell_type": "markdown",
   "id": "deea99c7",
   "metadata": {},
   "source": [
    "The interpolate_vic_suburb_seifa function takes the same arguments as the command line:\n",
    "\n",
    "```python\n",
    "interpolate_vic_suburb_seifa(year_values: int, float or np.arraylike,\n",
    "\t\t\t     suburb: str, metric: str, fill_value:str = 'extrapolate')\n",
    "```"
   ]
  },
  {
   "cell_type": "code",
   "execution_count": 9,
   "id": "4e3c768e",
   "metadata": {},
   "outputs": [
    {
     "data": {
      "text/plain": [
       "874.1489807920245"
      ]
     },
     "execution_count": 9,
     "metadata": {},
     "output_type": "execute_result"
    }
   ],
   "source": [
    "interpolate_vic_suburb_seifa(2007, 'FOOTSCRAY', 'ier_score', fill_value='extrapolate')"
   ]
  },
  {
   "cell_type": "markdown",
   "id": "87634646",
   "metadata": {},
   "source": [
    "### Calculation of multiple values\n",
    "\n",
    "You can calculate multiple years by feeding in an np.array like for the year argument"
   ]
  },
  {
   "cell_type": "code",
   "execution_count": 10,
   "id": "f5fd75de",
   "metadata": {},
   "outputs": [
    {
     "data": {
      "text/plain": [
       "array([874.14898079, 861.68112674])"
      ]
     },
     "execution_count": 10,
     "metadata": {},
     "output_type": "execute_result"
    }
   ],
   "source": [
    "interpolate_vic_suburb_seifa([2007, 2020], 'FOOTSCRAY', 'ier_score', fill_value='extrapolate')"
   ]
  },
  {
   "cell_type": "markdown",
   "id": "4e771244",
   "metadata": {},
   "source": [
    "### Different methods of extrapolation\n",
    "The default setting is for the interpolator to extrapolate out to values before and after the first and last years in the dataset, this is set with the `fill_value` optional argument.\n",
    "\n",
    "Other options include `\"boundary_value\"` which will set variables outside of the time span of data to the nearest data points. See below for an illustration"
   ]
  },
  {
   "cell_type": "code",
   "execution_count": 11,
   "id": "18631c6c",
   "metadata": {},
   "outputs": [
    {
     "name": "stdout",
     "output_type": "stream",
     "text": [
      "fill_value now ('943.0315332534345', '952')\n"
     ]
    }
   ],
   "source": [
    "import pandas as pd\n",
    "\n",
    "years = list(range(1980, 2020))\n",
    "abbotsford_ier = interpolate_vic_suburb_seifa(years, 'abbotsford', 'ier_score', fill_value='boundary_value')\n",
    "df = pd.DataFrame({'years':years, 'ier_boundary':abbotsford_ier})\n",
    "df['ier_extrapolate'] = interpolate_vic_suburb_seifa(years, 'ABBOTSFORD', 'ier_score', fill_value='extrapolate')"
   ]
  },
  {
   "cell_type": "code",
   "execution_count": 12,
   "id": "fe927bf2",
   "metadata": {},
   "outputs": [
    {
     "data": {
      "text/html": [
       "<div>\n",
       "<style scoped>\n",
       "    .dataframe tbody tr th:only-of-type {\n",
       "        vertical-align: middle;\n",
       "    }\n",
       "\n",
       "    .dataframe tbody tr th {\n",
       "        vertical-align: top;\n",
       "    }\n",
       "\n",
       "    .dataframe thead th {\n",
       "        text-align: right;\n",
       "    }\n",
       "</style>\n",
       "<table border=\"1\" class=\"dataframe\">\n",
       "  <thead>\n",
       "    <tr style=\"text-align: right;\">\n",
       "      <th></th>\n",
       "      <th>years</th>\n",
       "      <th>ier_boundary</th>\n",
       "      <th>ier_extrapolate</th>\n",
       "    </tr>\n",
       "  </thead>\n",
       "  <tbody>\n",
       "    <tr>\n",
       "      <th>0</th>\n",
       "      <td>1980</td>\n",
       "      <td>943.031533</td>\n",
       "      <td>868.191431</td>\n",
       "    </tr>\n",
       "    <tr>\n",
       "      <th>1</th>\n",
       "      <td>1981</td>\n",
       "      <td>943.031533</td>\n",
       "      <td>880.664782</td>\n",
       "    </tr>\n",
       "    <tr>\n",
       "      <th>2</th>\n",
       "      <td>1982</td>\n",
       "      <td>943.031533</td>\n",
       "      <td>893.138132</td>\n",
       "    </tr>\n",
       "    <tr>\n",
       "      <th>3</th>\n",
       "      <td>1983</td>\n",
       "      <td>943.031533</td>\n",
       "      <td>905.611482</td>\n",
       "    </tr>\n",
       "    <tr>\n",
       "      <th>4</th>\n",
       "      <td>1984</td>\n",
       "      <td>943.031533</td>\n",
       "      <td>918.084833</td>\n",
       "    </tr>\n",
       "  </tbody>\n",
       "</table>\n",
       "</div>"
      ],
      "text/plain": [
       "   years  ier_boundary  ier_extrapolate\n",
       "0   1980    943.031533       868.191431\n",
       "1   1981    943.031533       880.664782\n",
       "2   1982    943.031533       893.138132\n",
       "3   1983    943.031533       905.611482\n",
       "4   1984    943.031533       918.084833"
      ]
     },
     "execution_count": 12,
     "metadata": {},
     "output_type": "execute_result"
    }
   ],
   "source": [
    "df.head()\n"
   ]
  },
  {
   "cell_type": "code",
   "execution_count": 16,
   "id": "42a839a9",
   "metadata": {},
   "outputs": [
    {
     "data": {
      "image/png": "[encoded data removed]",
      "text/plain": [
       "<Figure size 432x288 with 1 Axes>"
      ]
     },
     "metadata": {
      "needs_background": "light",
      "transient": {}
     },
     "output_type": "display_data"
    }
   ],
   "source": [
    "\n",
    "ax = df.plot(x='years', y=['ier_boundary', 'ier_extrapolate'], alpha=0.5)\n",
    "ax.set_ylabel('ier_score');\n"
   ]
  },
  {
   "cell_type": "markdown",
   "id": "08497bcc",
   "metadata": {},
   "source": [
    "Note that the above graph shows the boundary_value vs the extrapolate fill_value patterns"
   ]
  }
 ],
 "metadata": {
  "kernelspec": {
   "display_name": "Python 3 (ipykernel)",
   "language": "python",
   "name": "python3"
  },
  "language_info": {
   "codemirror_mode": {
    "name": "ipython",
    "version": 3
   },
   "file_extension": ".py",
   "mimetype": "text/x-python",
   "name": "python",
   "nbconvert_exporter": "python",
   "pygments_lexer": "ipython3",
   "version": "3.7.1"
  }
 },
 "nbformat": 4,
 "nbformat_minor": 5
}
